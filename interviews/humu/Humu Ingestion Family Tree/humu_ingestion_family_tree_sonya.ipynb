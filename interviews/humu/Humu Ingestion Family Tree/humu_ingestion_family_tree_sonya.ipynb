{
 "cells": [
  {
   "cell_type": "code",
   "execution_count": 21,
   "metadata": {
    "collapsed": true
   },
   "outputs": [],
   "source": [
    "import csv\n",
    "import itertools\n",
    "import numpy as np\n",
    "\n",
    "from collections import defaultdict\n",
    "\n",
    "import pickle\n",
    "\n",
    "import datetime\n",
    "\n",
    "import os\n",
    "\n",
    "\n",
    "from datetime import datetime\n"
   ]
  },
  {
   "cell_type": "code",
   "execution_count": 7,
   "metadata": {
    "collapsed": false
   },
   "outputs": [],
   "source": [
    "import pandas as pd\n",
    "\n",
    "\n",
    "_DEBUG = True\n",
    "def dprint(*args, **kwargs):\n",
    "    if _DEBUG:\n",
    "        print(*args, **kwargs)\n"
   ]
  },
  {
   "cell_type": "code",
   "execution_count": 29,
   "metadata": {
    "collapsed": false
   },
   "outputs": [
    {
     "name": "stdout",
     "output_type": "stream",
     "text": [
      "[['id', 'name', 'gender', 'birth', 'death', 'parent1', 'parent2'], ['1', 'Marilyn Parrish', 'female', '1906-12-05', '1966-12-05', '', ''], ['2', 'Rebecca Hobbs', 'female', '1927-01-30', '', '1', '5']]\n"
     ]
    },
    {
     "data": {
      "text/plain": [
       "[['id', 'name', 'gender', 'birth', 'death', 'parent1', 'parent2'],\n",
       " ['1', 'Marilyn Parrish', 'female', '1906-12-05', '1966-12-05', '', ''],\n",
       " ['2', 'Rebecca Hobbs', 'female', '1927-01-30', '', '1', '5']]"
      ]
     },
     "execution_count": 29,
     "metadata": {},
     "output_type": "execute_result"
    }
   ],
   "source": [
    "csv = [\n",
    "    \"id,name,gender,birth,death,parent1,parent2\",\n",
    "\"1,Marilyn Parrish,female,1906-12-05,1966-12-05,,\",\n",
    "\"2,Rebecca Hobbs,female,1927-01-30,,1,5\"\n",
    "]\n",
    "\n",
    "\n",
    "def parseHelper(csv):\n",
    "    data = []\n",
    "    for line in csv:\n",
    "        line = line.split(\",\")\n",
    "        data.append(line)\n",
    "    dprint(data)\n",
    "    return data\n",
    "\n",
    "parseHelper(csv)\n"
   ]
  },
  {
   "cell_type": "code",
   "execution_count": null,
   "metadata": {
    "collapsed": true
   },
   "outputs": [],
   "source": [
    "from datetime import datetime\n",
    "\n",
    "datetime_object = datetime.strptime('Jun 1 2005  1:33PM', '%b %d %Y %I:%M%p')\n",
    "\n",
    "def compute_age(today, birth, death):\n",
    "    \"\"\"\n",
    "    input today: str 2018-12-20\n",
    "    input birth: str\n",
    "    input death: str\n",
    "    output age: str\n",
    "    \"\"\"\n",
    "    today = datetime.striptime(today, '')\n",
    "    # pase dates\n",
    "    \n",
    "    if today > death:\n",
    "        age = death - birth\n",
    "    else:\n",
    "        age = today - birth\n",
    "    # TODO: convert age to days\n",
    "    return age\n",
    "    \n",
    "    "
   ]
  },
  {
   "cell_type": "code",
   "execution_count": 38,
   "metadata": {
    "collapsed": false
   },
   "outputs": [],
   "source": [
    "class PersonInfo:\n",
    "    def __init__(self, my_name):\n",
    "        self.id = None\n",
    "        self.name = my_name\n",
    "        self.parent1 = None\n",
    "        self.parent2 = None\n",
    "        self.direct_children = []\n",
    "        self.descendant_num = 0\n",
    "        self.age = None\n",
    "        \n",
    "        \n",
    "# def personInfo(my_name):\n",
    "#     self.name = my_name\n",
    "#     self.parent1 = None\n",
    "#     self.parent2 = None\n",
    "#     self.direct_children = []\n",
    "#     self.descendant_num = 0\n",
    "#     self.age = None"
   ]
  },
  {
   "cell_type": "code",
   "execution_count": 39,
   "metadata": {
    "collapsed": false
   },
   "outputs": [
    {
     "name": "stdout",
     "output_type": "stream",
     "text": [
      "[['id', 'name', 'gender', 'birth', 'death', 'parent1', 'parent2'], ['1', 'Marilyn Parrish', 'female', '1906-12-05', '1966-12-05', '', ''], ['2', 'Rebecca Hobbs', 'female', '1927-01-30', '', '1', '5']]\n"
     ]
    },
    {
     "data": {
      "text/plain": [
       "<__main__.PersonInfo at 0x116bf9780>"
      ]
     },
     "execution_count": 39,
     "metadata": {},
     "output_type": "execute_result"
    }
   ],
   "source": [
    "# build the family Tree\n",
    "\n",
    "from collections import defaultdict\n",
    "\n",
    "def build_family_map(data, today):\n",
    "    member_map = defaultdict()\n",
    "\n",
    "    members = data[1:]\n",
    "    for member in members:\n",
    "        # build the person\n",
    "        name = member[1]\n",
    "        person = PersonInfo(name)\n",
    "        member_map[name] = person\n",
    "        \n",
    "        # fill in id\n",
    "        index = member[0]\n",
    "        self.id = index\n",
    "        \n",
    "        # fill in age\n",
    "        birth = data[3]\n",
    "        death = data[4]\n",
    "#         age = compute_age(today, birth, death)\n",
    "#         self.age = age\n",
    "        \n",
    "    return member_map\n",
    "        \n",
    "data = parseHelper(csv)\n",
    "member_map = build_family_map(data)\n",
    "member_map[\"Marilyn Parrish\"]"
   ]
  },
  {
   "cell_type": "code",
   "execution_count": null,
   "metadata": {
    "collapsed": true
   },
   "outputs": [],
   "source": [
    "def sort_correlation(data, member_map):\n",
    "    \"\"\"\n",
    "    input data: [[st]]\n",
    "    member_map: dict{str: MemberInfo}\n",
    "    return member_map\n",
    "    \"\"\"\n",
    "    \n",
    "    members = data[1:]\n",
    "    for member_info in members:\n",
    "        name = member_info[1]\n",
    "        person = member_map[name]\n",
    "        \n",
    "        parent1_id = int(member_info[5])\n",
    "        if parent1_id <= len(data):\n",
    "            parent1_name = data[parent1_id][1]\n",
    "            person.parent1 = member_map[parent1_name]\n",
    "        \n",
    "        parent2_id = int(member_info[6])\n",
    "        if parent2_id <= len(data):  \n",
    "            parent2_name = data[parent1_id][1]\n",
    "            person.parent1 = member_map[parent1_name]\n",
    "    \n",
    "    return member_map\n",
    "        "
   ]
  },
  {
   "cell_type": "code",
   "execution_count": 14,
   "metadata": {
    "collapsed": true
   },
   "outputs": [],
   "source": [
    "def ingestFamilyTree(csv, today):\n",
    "    data = parseHelper(csv)\n",
    "    dprint(data)\n",
    "    \n",
    "    # build family map\n",
    "    family_map = build_family_map(data, today)\n",
    "    \n",
    "    # build family tree\n",
    "    \n",
    "    "
   ]
  },
  {
   "cell_type": "code",
   "execution_count": null,
   "metadata": {
    "collapsed": true
   },
   "outputs": [],
   "source": []
  }
 ],
 "metadata": {
  "kernelspec": {
   "display_name": "Python 3",
   "language": "python",
   "name": "python3"
  },
  "language_info": {
   "codemirror_mode": {
    "name": "ipython",
    "version": 3
   },
   "file_extension": ".py",
   "mimetype": "text/x-python",
   "name": "python",
   "nbconvert_exporter": "python",
   "pygments_lexer": "ipython3",
   "version": "3.6.0"
  }
 },
 "nbformat": 4,
 "nbformat_minor": 2
}
